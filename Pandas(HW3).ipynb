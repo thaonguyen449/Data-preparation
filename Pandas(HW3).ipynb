{
 "cells": [
  {
   "cell_type": "code",
   "execution_count": 57,
   "id": "c573725b-85c6-46a8-a0ae-f4ac274c5e5e",
   "metadata": {},
   "outputs": [],
   "source": [
    "import numpy as np\n",
    "import pandas as pd"
   ]
  },
  {
   "cell_type": "code",
   "execution_count": 58,
   "id": "4cd940b1-32d2-4b54-a414-a344367bc93c",
   "metadata": {},
   "outputs": [],
   "source": [
    "df1 = pd.read_csv('Downloads/earthquakes.csv')"
   ]
  },
  {
   "cell_type": "code",
   "execution_count": 59,
   "id": "a4c01b8b-f357-4ef2-82e6-8e12cf9b105f",
   "metadata": {},
   "outputs": [
    {
     "data": {
      "text/html": [
       "<div>\n",
       "<style scoped>\n",
       "    .dataframe tbody tr th:only-of-type {\n",
       "        vertical-align: middle;\n",
       "    }\n",
       "\n",
       "    .dataframe tbody tr th {\n",
       "        vertical-align: top;\n",
       "    }\n",
       "\n",
       "    .dataframe thead th {\n",
       "        text-align: right;\n",
       "    }\n",
       "</style>\n",
       "<table border=\"1\" class=\"dataframe\">\n",
       "  <thead>\n",
       "    <tr style=\"text-align: right;\">\n",
       "      <th></th>\n",
       "      <th>alert</th>\n",
       "      <th>cdi</th>\n",
       "      <th>code</th>\n",
       "      <th>detail</th>\n",
       "      <th>dmin</th>\n",
       "      <th>felt</th>\n",
       "      <th>gap</th>\n",
       "      <th>ids</th>\n",
       "      <th>mag</th>\n",
       "      <th>magType</th>\n",
       "      <th>...</th>\n",
       "      <th>sources</th>\n",
       "      <th>status</th>\n",
       "      <th>time</th>\n",
       "      <th>title</th>\n",
       "      <th>tsunami</th>\n",
       "      <th>type</th>\n",
       "      <th>types</th>\n",
       "      <th>tz</th>\n",
       "      <th>updated</th>\n",
       "      <th>url</th>\n",
       "    </tr>\n",
       "  </thead>\n",
       "  <tbody>\n",
       "    <tr>\n",
       "      <th>0</th>\n",
       "      <td>NaN</td>\n",
       "      <td>NaN</td>\n",
       "      <td>37389218</td>\n",
       "      <td>https://earthquake.usgs.gov/fdsnws/event/1/que...</td>\n",
       "      <td>0.008693</td>\n",
       "      <td>NaN</td>\n",
       "      <td>85.0</td>\n",
       "      <td>,ci37389218,</td>\n",
       "      <td>1.35</td>\n",
       "      <td>ml</td>\n",
       "      <td>...</td>\n",
       "      <td>,ci,</td>\n",
       "      <td>automatic</td>\n",
       "      <td>1539475168010</td>\n",
       "      <td>M 1.4 - 9km NE of Aguanga, CA</td>\n",
       "      <td>0</td>\n",
       "      <td>earthquake</td>\n",
       "      <td>,geoserve,nearby-cities,origin,phase-data,</td>\n",
       "      <td>-480.0</td>\n",
       "      <td>1539475395144</td>\n",
       "      <td>https://earthquake.usgs.gov/earthquakes/eventp...</td>\n",
       "    </tr>\n",
       "    <tr>\n",
       "      <th>1</th>\n",
       "      <td>NaN</td>\n",
       "      <td>NaN</td>\n",
       "      <td>37389202</td>\n",
       "      <td>https://earthquake.usgs.gov/fdsnws/event/1/que...</td>\n",
       "      <td>0.020030</td>\n",
       "      <td>NaN</td>\n",
       "      <td>79.0</td>\n",
       "      <td>,ci37389202,</td>\n",
       "      <td>1.29</td>\n",
       "      <td>ml</td>\n",
       "      <td>...</td>\n",
       "      <td>,ci,</td>\n",
       "      <td>automatic</td>\n",
       "      <td>1539475129610</td>\n",
       "      <td>M 1.3 - 9km NE of Aguanga, CA</td>\n",
       "      <td>0</td>\n",
       "      <td>earthquake</td>\n",
       "      <td>,geoserve,nearby-cities,origin,phase-data,</td>\n",
       "      <td>-480.0</td>\n",
       "      <td>1539475253925</td>\n",
       "      <td>https://earthquake.usgs.gov/earthquakes/eventp...</td>\n",
       "    </tr>\n",
       "    <tr>\n",
       "      <th>2</th>\n",
       "      <td>NaN</td>\n",
       "      <td>4.4</td>\n",
       "      <td>37389194</td>\n",
       "      <td>https://earthquake.usgs.gov/fdsnws/event/1/que...</td>\n",
       "      <td>0.021370</td>\n",
       "      <td>28.0</td>\n",
       "      <td>21.0</td>\n",
       "      <td>,ci37389194,</td>\n",
       "      <td>3.42</td>\n",
       "      <td>ml</td>\n",
       "      <td>...</td>\n",
       "      <td>,ci,</td>\n",
       "      <td>automatic</td>\n",
       "      <td>1539475062610</td>\n",
       "      <td>M 3.4 - 8km NE of Aguanga, CA</td>\n",
       "      <td>0</td>\n",
       "      <td>earthquake</td>\n",
       "      <td>,dyfi,focal-mechanism,geoserve,nearby-cities,o...</td>\n",
       "      <td>-480.0</td>\n",
       "      <td>1539536756176</td>\n",
       "      <td>https://earthquake.usgs.gov/earthquakes/eventp...</td>\n",
       "    </tr>\n",
       "    <tr>\n",
       "      <th>3</th>\n",
       "      <td>NaN</td>\n",
       "      <td>NaN</td>\n",
       "      <td>37389186</td>\n",
       "      <td>https://earthquake.usgs.gov/fdsnws/event/1/que...</td>\n",
       "      <td>0.026180</td>\n",
       "      <td>NaN</td>\n",
       "      <td>39.0</td>\n",
       "      <td>,ci37389186,</td>\n",
       "      <td>0.44</td>\n",
       "      <td>ml</td>\n",
       "      <td>...</td>\n",
       "      <td>,ci,</td>\n",
       "      <td>automatic</td>\n",
       "      <td>1539474978070</td>\n",
       "      <td>M 0.4 - 9km NE of Aguanga, CA</td>\n",
       "      <td>0</td>\n",
       "      <td>earthquake</td>\n",
       "      <td>,geoserve,nearby-cities,origin,phase-data,</td>\n",
       "      <td>-480.0</td>\n",
       "      <td>1539475196167</td>\n",
       "      <td>https://earthquake.usgs.gov/earthquakes/eventp...</td>\n",
       "    </tr>\n",
       "    <tr>\n",
       "      <th>4</th>\n",
       "      <td>NaN</td>\n",
       "      <td>NaN</td>\n",
       "      <td>73096941</td>\n",
       "      <td>https://earthquake.usgs.gov/fdsnws/event/1/que...</td>\n",
       "      <td>0.077990</td>\n",
       "      <td>NaN</td>\n",
       "      <td>192.0</td>\n",
       "      <td>,nc73096941,</td>\n",
       "      <td>2.16</td>\n",
       "      <td>md</td>\n",
       "      <td>...</td>\n",
       "      <td>,nc,</td>\n",
       "      <td>automatic</td>\n",
       "      <td>1539474716050</td>\n",
       "      <td>M 2.2 - 10km NW of Avenal, CA</td>\n",
       "      <td>0</td>\n",
       "      <td>earthquake</td>\n",
       "      <td>,geoserve,nearby-cities,origin,phase-data,scit...</td>\n",
       "      <td>-480.0</td>\n",
       "      <td>1539477547926</td>\n",
       "      <td>https://earthquake.usgs.gov/earthquakes/eventp...</td>\n",
       "    </tr>\n",
       "    <tr>\n",
       "      <th>...</th>\n",
       "      <td>...</td>\n",
       "      <td>...</td>\n",
       "      <td>...</td>\n",
       "      <td>...</td>\n",
       "      <td>...</td>\n",
       "      <td>...</td>\n",
       "      <td>...</td>\n",
       "      <td>...</td>\n",
       "      <td>...</td>\n",
       "      <td>...</td>\n",
       "      <td>...</td>\n",
       "      <td>...</td>\n",
       "      <td>...</td>\n",
       "      <td>...</td>\n",
       "      <td>...</td>\n",
       "      <td>...</td>\n",
       "      <td>...</td>\n",
       "      <td>...</td>\n",
       "      <td>...</td>\n",
       "      <td>...</td>\n",
       "      <td>...</td>\n",
       "    </tr>\n",
       "    <tr>\n",
       "      <th>9327</th>\n",
       "      <td>NaN</td>\n",
       "      <td>NaN</td>\n",
       "      <td>73086771</td>\n",
       "      <td>https://earthquake.usgs.gov/fdsnws/event/1/que...</td>\n",
       "      <td>0.018060</td>\n",
       "      <td>NaN</td>\n",
       "      <td>185.0</td>\n",
       "      <td>,nc73086771,</td>\n",
       "      <td>0.62</td>\n",
       "      <td>md</td>\n",
       "      <td>...</td>\n",
       "      <td>,nc,</td>\n",
       "      <td>reviewed</td>\n",
       "      <td>1537230228060</td>\n",
       "      <td>M 0.6 - 9km ENE of Mammoth Lakes, CA</td>\n",
       "      <td>0</td>\n",
       "      <td>earthquake</td>\n",
       "      <td>,geoserve,nearby-cities,origin,phase-data,</td>\n",
       "      <td>-480.0</td>\n",
       "      <td>1537285598315</td>\n",
       "      <td>https://earthquake.usgs.gov/earthquakes/eventp...</td>\n",
       "    </tr>\n",
       "    <tr>\n",
       "      <th>9328</th>\n",
       "      <td>NaN</td>\n",
       "      <td>NaN</td>\n",
       "      <td>38063967</td>\n",
       "      <td>https://earthquake.usgs.gov/fdsnws/event/1/que...</td>\n",
       "      <td>0.030410</td>\n",
       "      <td>NaN</td>\n",
       "      <td>50.0</td>\n",
       "      <td>,ci38063967,</td>\n",
       "      <td>1.00</td>\n",
       "      <td>ml</td>\n",
       "      <td>...</td>\n",
       "      <td>,ci,</td>\n",
       "      <td>reviewed</td>\n",
       "      <td>1537230135130</td>\n",
       "      <td>M 1.0 - 3km W of Julian, CA</td>\n",
       "      <td>0</td>\n",
       "      <td>earthquake</td>\n",
       "      <td>,geoserve,nearby-cities,origin,phase-data,scit...</td>\n",
       "      <td>-480.0</td>\n",
       "      <td>1537276800970</td>\n",
       "      <td>https://earthquake.usgs.gov/earthquakes/eventp...</td>\n",
       "    </tr>\n",
       "    <tr>\n",
       "      <th>9329</th>\n",
       "      <td>NaN</td>\n",
       "      <td>NaN</td>\n",
       "      <td>2018261000</td>\n",
       "      <td>https://earthquake.usgs.gov/fdsnws/event/1/que...</td>\n",
       "      <td>0.452600</td>\n",
       "      <td>NaN</td>\n",
       "      <td>276.0</td>\n",
       "      <td>,pr2018261000,</td>\n",
       "      <td>2.40</td>\n",
       "      <td>md</td>\n",
       "      <td>...</td>\n",
       "      <td>,pr,</td>\n",
       "      <td>reviewed</td>\n",
       "      <td>1537229908180</td>\n",
       "      <td>M 2.4 - 35km NNE of Hatillo, Puerto Rico</td>\n",
       "      <td>0</td>\n",
       "      <td>earthquake</td>\n",
       "      <td>,geoserve,origin,phase-data,</td>\n",
       "      <td>-240.0</td>\n",
       "      <td>1537243777410</td>\n",
       "      <td>https://earthquake.usgs.gov/earthquakes/eventp...</td>\n",
       "    </tr>\n",
       "    <tr>\n",
       "      <th>9330</th>\n",
       "      <td>NaN</td>\n",
       "      <td>NaN</td>\n",
       "      <td>38063959</td>\n",
       "      <td>https://earthquake.usgs.gov/fdsnws/event/1/que...</td>\n",
       "      <td>0.018650</td>\n",
       "      <td>NaN</td>\n",
       "      <td>61.0</td>\n",
       "      <td>,ci38063959,</td>\n",
       "      <td>1.10</td>\n",
       "      <td>ml</td>\n",
       "      <td>...</td>\n",
       "      <td>,ci,</td>\n",
       "      <td>reviewed</td>\n",
       "      <td>1537229545350</td>\n",
       "      <td>M 1.1 - 9km NE of Aguanga, CA</td>\n",
       "      <td>0</td>\n",
       "      <td>earthquake</td>\n",
       "      <td>,focal-mechanism,geoserve,nearby-cities,origin...</td>\n",
       "      <td>-480.0</td>\n",
       "      <td>1537230211640</td>\n",
       "      <td>https://earthquake.usgs.gov/earthquakes/eventp...</td>\n",
       "    </tr>\n",
       "    <tr>\n",
       "      <th>9331</th>\n",
       "      <td>NaN</td>\n",
       "      <td>NaN</td>\n",
       "      <td>38063935</td>\n",
       "      <td>https://earthquake.usgs.gov/fdsnws/event/1/que...</td>\n",
       "      <td>0.016980</td>\n",
       "      <td>NaN</td>\n",
       "      <td>39.0</td>\n",
       "      <td>,ci38063935,</td>\n",
       "      <td>0.66</td>\n",
       "      <td>ml</td>\n",
       "      <td>...</td>\n",
       "      <td>,ci,</td>\n",
       "      <td>reviewed</td>\n",
       "      <td>1537228864470</td>\n",
       "      <td>M 0.7 - 9km NE of Aguanga, CA</td>\n",
       "      <td>0</td>\n",
       "      <td>earthquake</td>\n",
       "      <td>,focal-mechanism,geoserve,nearby-cities,origin...</td>\n",
       "      <td>-480.0</td>\n",
       "      <td>1537305830770</td>\n",
       "      <td>https://earthquake.usgs.gov/earthquakes/eventp...</td>\n",
       "    </tr>\n",
       "  </tbody>\n",
       "</table>\n",
       "<p>9332 rows × 26 columns</p>\n",
       "</div>"
      ],
      "text/plain": [
       "     alert  cdi        code  \\\n",
       "0      NaN  NaN    37389218   \n",
       "1      NaN  NaN    37389202   \n",
       "2      NaN  4.4    37389194   \n",
       "3      NaN  NaN    37389186   \n",
       "4      NaN  NaN    73096941   \n",
       "...    ...  ...         ...   \n",
       "9327   NaN  NaN    73086771   \n",
       "9328   NaN  NaN    38063967   \n",
       "9329   NaN  NaN  2018261000   \n",
       "9330   NaN  NaN    38063959   \n",
       "9331   NaN  NaN    38063935   \n",
       "\n",
       "                                                 detail      dmin  felt  \\\n",
       "0     https://earthquake.usgs.gov/fdsnws/event/1/que...  0.008693   NaN   \n",
       "1     https://earthquake.usgs.gov/fdsnws/event/1/que...  0.020030   NaN   \n",
       "2     https://earthquake.usgs.gov/fdsnws/event/1/que...  0.021370  28.0   \n",
       "3     https://earthquake.usgs.gov/fdsnws/event/1/que...  0.026180   NaN   \n",
       "4     https://earthquake.usgs.gov/fdsnws/event/1/que...  0.077990   NaN   \n",
       "...                                                 ...       ...   ...   \n",
       "9327  https://earthquake.usgs.gov/fdsnws/event/1/que...  0.018060   NaN   \n",
       "9328  https://earthquake.usgs.gov/fdsnws/event/1/que...  0.030410   NaN   \n",
       "9329  https://earthquake.usgs.gov/fdsnws/event/1/que...  0.452600   NaN   \n",
       "9330  https://earthquake.usgs.gov/fdsnws/event/1/que...  0.018650   NaN   \n",
       "9331  https://earthquake.usgs.gov/fdsnws/event/1/que...  0.016980   NaN   \n",
       "\n",
       "        gap             ids   mag magType  ...  sources     status  \\\n",
       "0      85.0    ,ci37389218,  1.35      ml  ...     ,ci,  automatic   \n",
       "1      79.0    ,ci37389202,  1.29      ml  ...     ,ci,  automatic   \n",
       "2      21.0    ,ci37389194,  3.42      ml  ...     ,ci,  automatic   \n",
       "3      39.0    ,ci37389186,  0.44      ml  ...     ,ci,  automatic   \n",
       "4     192.0    ,nc73096941,  2.16      md  ...     ,nc,  automatic   \n",
       "...     ...             ...   ...     ...  ...      ...        ...   \n",
       "9327  185.0    ,nc73086771,  0.62      md  ...     ,nc,   reviewed   \n",
       "9328   50.0    ,ci38063967,  1.00      ml  ...     ,ci,   reviewed   \n",
       "9329  276.0  ,pr2018261000,  2.40      md  ...     ,pr,   reviewed   \n",
       "9330   61.0    ,ci38063959,  1.10      ml  ...     ,ci,   reviewed   \n",
       "9331   39.0    ,ci38063935,  0.66      ml  ...     ,ci,   reviewed   \n",
       "\n",
       "               time                                     title  tsunami  \\\n",
       "0     1539475168010             M 1.4 - 9km NE of Aguanga, CA        0   \n",
       "1     1539475129610             M 1.3 - 9km NE of Aguanga, CA        0   \n",
       "2     1539475062610             M 3.4 - 8km NE of Aguanga, CA        0   \n",
       "3     1539474978070             M 0.4 - 9km NE of Aguanga, CA        0   \n",
       "4     1539474716050             M 2.2 - 10km NW of Avenal, CA        0   \n",
       "...             ...                                       ...      ...   \n",
       "9327  1537230228060      M 0.6 - 9km ENE of Mammoth Lakes, CA        0   \n",
       "9328  1537230135130               M 1.0 - 3km W of Julian, CA        0   \n",
       "9329  1537229908180  M 2.4 - 35km NNE of Hatillo, Puerto Rico        0   \n",
       "9330  1537229545350             M 1.1 - 9km NE of Aguanga, CA        0   \n",
       "9331  1537228864470             M 0.7 - 9km NE of Aguanga, CA        0   \n",
       "\n",
       "            type                                              types     tz  \\\n",
       "0     earthquake         ,geoserve,nearby-cities,origin,phase-data, -480.0   \n",
       "1     earthquake         ,geoserve,nearby-cities,origin,phase-data, -480.0   \n",
       "2     earthquake  ,dyfi,focal-mechanism,geoserve,nearby-cities,o... -480.0   \n",
       "3     earthquake         ,geoserve,nearby-cities,origin,phase-data, -480.0   \n",
       "4     earthquake  ,geoserve,nearby-cities,origin,phase-data,scit... -480.0   \n",
       "...          ...                                                ...    ...   \n",
       "9327  earthquake         ,geoserve,nearby-cities,origin,phase-data, -480.0   \n",
       "9328  earthquake  ,geoserve,nearby-cities,origin,phase-data,scit... -480.0   \n",
       "9329  earthquake                       ,geoserve,origin,phase-data, -240.0   \n",
       "9330  earthquake  ,focal-mechanism,geoserve,nearby-cities,origin... -480.0   \n",
       "9331  earthquake  ,focal-mechanism,geoserve,nearby-cities,origin... -480.0   \n",
       "\n",
       "            updated                                                url  \n",
       "0     1539475395144  https://earthquake.usgs.gov/earthquakes/eventp...  \n",
       "1     1539475253925  https://earthquake.usgs.gov/earthquakes/eventp...  \n",
       "2     1539536756176  https://earthquake.usgs.gov/earthquakes/eventp...  \n",
       "3     1539475196167  https://earthquake.usgs.gov/earthquakes/eventp...  \n",
       "4     1539477547926  https://earthquake.usgs.gov/earthquakes/eventp...  \n",
       "...             ...                                                ...  \n",
       "9327  1537285598315  https://earthquake.usgs.gov/earthquakes/eventp...  \n",
       "9328  1537276800970  https://earthquake.usgs.gov/earthquakes/eventp...  \n",
       "9329  1537243777410  https://earthquake.usgs.gov/earthquakes/eventp...  \n",
       "9330  1537230211640  https://earthquake.usgs.gov/earthquakes/eventp...  \n",
       "9331  1537305830770  https://earthquake.usgs.gov/earthquakes/eventp...  \n",
       "\n",
       "[9332 rows x 26 columns]"
      ]
     },
     "execution_count": 59,
     "metadata": {},
     "output_type": "execute_result"
    }
   ],
   "source": [
    "df1"
   ]
  },
  {
   "cell_type": "code",
   "execution_count": 60,
   "id": "fe4fb1a5-c9fc-4544-bf46-3c3e8238993f",
   "metadata": {},
   "outputs": [
    {
     "data": {
      "text/plain": [
       "79"
      ]
     },
     "execution_count": 60,
     "metadata": {},
     "output_type": "execute_result"
    }
   ],
   "source": [
    "#1. How many earthquake have magType 'ml' and type 'explosion'?\n",
    "sum((df1.magType == 'ml') & (df1.type == 'explosion'))"
   ]
  },
  {
   "cell_type": "code",
   "execution_count": 61,
   "id": "84bd4579-f761-4dcb-b5c3-7a0d93415e80",
   "metadata": {},
   "outputs": [
    {
     "data": {
      "text/plain": [
       "0       True\n",
       "1       True\n",
       "2       True\n",
       "3       True\n",
       "4       True\n",
       "        ... \n",
       "9327    True\n",
       "9328    True\n",
       "9329    True\n",
       "9330    True\n",
       "9331    True\n",
       "Name: place, Length: 9332, dtype: bool"
      ]
     },
     "execution_count": 61,
     "metadata": {},
     "output_type": "execute_result"
    }
   ],
   "source": [
    "#2. Calculate the mean of mag in Alaska and the distance is smaller than 100km, example: \"62km W of Cantwell, Alaska\".\n",
    "s = ~ df1.place.str.contains('\\d\\d\\d', regex = True)\n",
    "s"
   ]
  },
  {
   "cell_type": "code",
   "execution_count": 62,
   "id": "2d370794-6c11-4a63-94c6-cec5a7b7987a",
   "metadata": {},
   "outputs": [
    {
     "data": {
      "text/plain": [
       "1.3744199088678577"
      ]
     },
     "execution_count": 62,
     "metadata": {},
     "output_type": "execute_result"
    }
   ],
   "source": [
    "mean = df1.mag[(df1.place.str.contains('Alaska')) & s].mean()\n",
    "mean"
   ]
  },
  {
   "cell_type": "code",
   "execution_count": 63,
   "id": "6096e149-edf9-487d-baf0-4b5283120e82",
   "metadata": {},
   "outputs": [],
   "source": [
    "#3. Calculate the mean of mag in each quarter (q1:m1-m3, q2: m4-m6, q3: m7-m9, q4: m10-12), the \"time\" field stores the milliseconds from 1/1/1970, hint: timestamp\n",
    "from datetime import datetime"
   ]
  },
  {
   "cell_type": "code",
   "execution_count": 64,
   "id": "cff61ca0-bc15-4a09-a6b1-74e3b695076d",
   "metadata": {},
   "outputs": [
    {
     "data": {
      "text/plain": [
       "0       1539475168010\n",
       "1       1539475129610\n",
       "2       1539475062610\n",
       "3       1539474978070\n",
       "4       1539474716050\n",
       "            ...      \n",
       "9327    1537230228060\n",
       "9328    1537230135130\n",
       "9329    1537229908180\n",
       "9330    1537229545350\n",
       "9331    1537228864470\n",
       "Name: time, Length: 9332, dtype: int64"
      ]
     },
     "execution_count": 64,
     "metadata": {},
     "output_type": "execute_result"
    }
   ],
   "source": [
    "time = pd.to_datetime(df1.time, unit=\"ms\")\n",
    "df1['time']"
   ]
  },
  {
   "cell_type": "code",
   "execution_count": 65,
   "id": "177b91b1-4aa2-47ea-854a-e2ed0d0ebb36",
   "metadata": {},
   "outputs": [
    {
     "data": {
      "text/plain": [
       "Int64Index([10, 10, 10, 10, 10, 10, 10, 10, 10, 10,\n",
       "            ...\n",
       "             9,  9,  9,  9,  9,  9,  9,  9,  9,  9],\n",
       "           dtype='int64', name='time', length=9332)"
      ]
     },
     "execution_count": 65,
     "metadata": {},
     "output_type": "execute_result"
    }
   ],
   "source": [
    "a = pd.DatetimeIndex(time).month\n",
    "a"
   ]
  },
  {
   "cell_type": "code",
   "execution_count": 66,
   "id": "72c2e9b8-d97b-4bbe-92d9-2cfbf6f4eda7",
   "metadata": {},
   "outputs": [
    {
     "data": {
      "text/plain": [
       "nan"
      ]
     },
     "execution_count": 66,
     "metadata": {},
     "output_type": "execute_result"
    }
   ],
   "source": [
    "q1 = df1.mag[(a >= 1)&(a <= 3)].mean()\n",
    "q1"
   ]
  },
  {
   "cell_type": "code",
   "execution_count": 67,
   "id": "777d4604-ae88-4373-9892-13f6a3861ab9",
   "metadata": {},
   "outputs": [
    {
     "data": {
      "text/plain": [
       "nan"
      ]
     },
     "execution_count": 67,
     "metadata": {},
     "output_type": "execute_result"
    }
   ],
   "source": [
    "q2 = df1.mag[(a >= 4)&(a <=6 )].mean()\n",
    "q2"
   ]
  },
  {
   "cell_type": "code",
   "execution_count": 68,
   "id": "977f8098-3805-4786-bf62-996d0ec685d2",
   "metadata": {},
   "outputs": [
    {
     "data": {
      "text/plain": [
       "1.466735124760082"
      ]
     },
     "execution_count": 68,
     "metadata": {},
     "output_type": "execute_result"
    }
   ],
   "source": [
    "q3 = df1.mag[(a >= 7)&(a <= 9)].mean()\n",
    "q3"
   ]
  },
  {
   "cell_type": "code",
   "execution_count": 69,
   "id": "b82b365e-b8b2-46c5-80a6-1440c5ca4b0b",
   "metadata": {},
   "outputs": [
    {
     "data": {
      "text/plain": [
       "1.5360446493569568"
      ]
     },
     "execution_count": 69,
     "metadata": {},
     "output_type": "execute_result"
    }
   ],
   "source": [
    "q4 = df1.mag[(a >= 10)&(a <= 12)].mean()\n",
    "q4"
   ]
  },
  {
   "cell_type": "code",
   "execution_count": null,
   "id": "bc1afb6b-8db3-48d9-a254-c89b5581b4fa",
   "metadata": {},
   "outputs": [],
   "source": []
  }
 ],
 "metadata": {
  "kernelspec": {
   "display_name": "Python 3",
   "language": "python",
   "name": "python3"
  },
  "language_info": {
   "codemirror_mode": {
    "name": "ipython",
    "version": 3
   },
   "file_extension": ".py",
   "mimetype": "text/x-python",
   "name": "python",
   "nbconvert_exporter": "python",
   "pygments_lexer": "ipython3",
   "version": "3.8.8"
  }
 },
 "nbformat": 4,
 "nbformat_minor": 5
}
